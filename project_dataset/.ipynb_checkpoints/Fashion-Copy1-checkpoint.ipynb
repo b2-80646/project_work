{
 "cells": [
  {
   "cell_type": "code",
   "execution_count": 1,
   "id": "07e3dac7-7fd6-4f84-9d54-6e9089cdf437",
   "metadata": {},
   "outputs": [],
   "source": [
    "import numpy as np\n",
    "import pandas as pd\n",
    "import matplotlib.pyplot\n",
    "import seaborn as sns\n",
    "from sklearn.preprocessing import OrdinalEncoder"
   ]
  },
  {
   "cell_type": "code",
   "execution_count": 3,
   "id": "8258727d-925c-4c7f-978b-7edbe5fc70a9",
   "metadata": {},
   "outputs": [
    {
     "data": {
      "text/html": [
       "<div>\n",
       "<style scoped>\n",
       "    .dataframe tbody tr th:only-of-type {\n",
       "        vertical-align: middle;\n",
       "    }\n",
       "\n",
       "    .dataframe tbody tr th {\n",
       "        vertical-align: top;\n",
       "    }\n",
       "\n",
       "    .dataframe thead th {\n",
       "        text-align: right;\n",
       "    }\n",
       "</style>\n",
       "<table border=\"1\" class=\"dataframe\">\n",
       "  <thead>\n",
       "    <tr style=\"text-align: right;\">\n",
       "      <th></th>\n",
       "      <th>Order date</th>\n",
       "      <th>Chain</th>\n",
       "      <th>Suburb</th>\n",
       "      <th>State</th>\n",
       "      <th>Postcode</th>\n",
       "      <th>Manager</th>\n",
       "      <th>Category</th>\n",
       "      <th>Buyer</th>\n",
       "      <th>Sales</th>\n",
       "      <th>inventory</th>\n",
       "    </tr>\n",
       "  </thead>\n",
       "  <tbody>\n",
       "    <tr>\n",
       "      <th>0</th>\n",
       "      <td>2021-12-27</td>\n",
       "      <td>0</td>\n",
       "      <td>25</td>\n",
       "      <td>1</td>\n",
       "      <td>2067</td>\n",
       "      <td>6</td>\n",
       "      <td>2</td>\n",
       "      <td>8</td>\n",
       "      <td>479.02</td>\n",
       "      <td>479.02</td>\n",
       "    </tr>\n",
       "    <tr>\n",
       "      <th>1</th>\n",
       "      <td>2021-10-03</td>\n",
       "      <td>0</td>\n",
       "      <td>25</td>\n",
       "      <td>1</td>\n",
       "      <td>2067</td>\n",
       "      <td>6</td>\n",
       "      <td>5</td>\n",
       "      <td>2</td>\n",
       "      <td>149.95</td>\n",
       "      <td>749.75</td>\n",
       "    </tr>\n",
       "    <tr>\n",
       "      <th>2</th>\n",
       "      <td>2022-01-14</td>\n",
       "      <td>0</td>\n",
       "      <td>25</td>\n",
       "      <td>1</td>\n",
       "      <td>2067</td>\n",
       "      <td>6</td>\n",
       "      <td>7</td>\n",
       "      <td>1</td>\n",
       "      <td>14.00</td>\n",
       "      <td>14.00</td>\n",
       "    </tr>\n",
       "    <tr>\n",
       "      <th>3</th>\n",
       "      <td>2019-05-15</td>\n",
       "      <td>0</td>\n",
       "      <td>25</td>\n",
       "      <td>1</td>\n",
       "      <td>2067</td>\n",
       "      <td>6</td>\n",
       "      <td>5</td>\n",
       "      <td>2</td>\n",
       "      <td>12.00</td>\n",
       "      <td>24.00</td>\n",
       "    </tr>\n",
       "    <tr>\n",
       "      <th>4</th>\n",
       "      <td>2020-10-17</td>\n",
       "      <td>0</td>\n",
       "      <td>25</td>\n",
       "      <td>1</td>\n",
       "      <td>2067</td>\n",
       "      <td>6</td>\n",
       "      <td>9</td>\n",
       "      <td>0</td>\n",
       "      <td>46.94</td>\n",
       "      <td>187.76</td>\n",
       "    </tr>\n",
       "    <tr>\n",
       "      <th>...</th>\n",
       "      <td>...</td>\n",
       "      <td>...</td>\n",
       "      <td>...</td>\n",
       "      <td>...</td>\n",
       "      <td>...</td>\n",
       "      <td>...</td>\n",
       "      <td>...</td>\n",
       "      <td>...</td>\n",
       "      <td>...</td>\n",
       "      <td>...</td>\n",
       "    </tr>\n",
       "    <tr>\n",
       "      <th>72420</th>\n",
       "      <td>2020-01-12</td>\n",
       "      <td>0</td>\n",
       "      <td>10</td>\n",
       "      <td>6</td>\n",
       "      <td>3353</td>\n",
       "      <td>7</td>\n",
       "      <td>6</td>\n",
       "      <td>4</td>\n",
       "      <td>2335.83</td>\n",
       "      <td>2335.83</td>\n",
       "    </tr>\n",
       "    <tr>\n",
       "      <th>72421</th>\n",
       "      <td>2021-12-30</td>\n",
       "      <td>0</td>\n",
       "      <td>10</td>\n",
       "      <td>6</td>\n",
       "      <td>3353</td>\n",
       "      <td>7</td>\n",
       "      <td>6</td>\n",
       "      <td>4</td>\n",
       "      <td>3430.66</td>\n",
       "      <td>17153.30</td>\n",
       "    </tr>\n",
       "    <tr>\n",
       "      <th>72422</th>\n",
       "      <td>2019-04-04</td>\n",
       "      <td>0</td>\n",
       "      <td>10</td>\n",
       "      <td>6</td>\n",
       "      <td>3353</td>\n",
       "      <td>7</td>\n",
       "      <td>2</td>\n",
       "      <td>8</td>\n",
       "      <td>4591.11</td>\n",
       "      <td>13773.33</td>\n",
       "    </tr>\n",
       "    <tr>\n",
       "      <th>72423</th>\n",
       "      <td>2022-06-02</td>\n",
       "      <td>0</td>\n",
       "      <td>10</td>\n",
       "      <td>6</td>\n",
       "      <td>3353</td>\n",
       "      <td>7</td>\n",
       "      <td>2</td>\n",
       "      <td>8</td>\n",
       "      <td>3674.59</td>\n",
       "      <td>11023.77</td>\n",
       "    </tr>\n",
       "    <tr>\n",
       "      <th>72424</th>\n",
       "      <td>2019-10-20</td>\n",
       "      <td>0</td>\n",
       "      <td>10</td>\n",
       "      <td>6</td>\n",
       "      <td>3353</td>\n",
       "      <td>7</td>\n",
       "      <td>5</td>\n",
       "      <td>2</td>\n",
       "      <td>3219.74</td>\n",
       "      <td>9659.22</td>\n",
       "    </tr>\n",
       "  </tbody>\n",
       "</table>\n",
       "<p>72425 rows × 10 columns</p>\n",
       "</div>"
      ],
      "text/plain": [
       "       Order date  Chain  Suburb  State  Postcode  Manager  Category  Buyer  \\\n",
       "0      2021-12-27      0      25      1      2067        6         2      8   \n",
       "1      2021-10-03      0      25      1      2067        6         5      2   \n",
       "2      2022-01-14      0      25      1      2067        6         7      1   \n",
       "3      2019-05-15      0      25      1      2067        6         5      2   \n",
       "4      2020-10-17      0      25      1      2067        6         9      0   \n",
       "...           ...    ...     ...    ...       ...      ...       ...    ...   \n",
       "72420  2020-01-12      0      10      6      3353        7         6      4   \n",
       "72421  2021-12-30      0      10      6      3353        7         6      4   \n",
       "72422  2019-04-04      0      10      6      3353        7         2      8   \n",
       "72423  2022-06-02      0      10      6      3353        7         2      8   \n",
       "72424  2019-10-20      0      10      6      3353        7         5      2   \n",
       "\n",
       "         Sales  inventory  \n",
       "0       479.02     479.02  \n",
       "1       149.95     749.75  \n",
       "2        14.00      14.00  \n",
       "3        12.00      24.00  \n",
       "4        46.94     187.76  \n",
       "...        ...        ...  \n",
       "72420  2335.83    2335.83  \n",
       "72421  3430.66   17153.30  \n",
       "72422  4591.11   13773.33  \n",
       "72423  3674.59   11023.77  \n",
       "72424  3219.74    9659.22  \n",
       "\n",
       "[72425 rows x 10 columns]"
      ]
     },
     "execution_count": 3,
     "metadata": {},
     "output_type": "execute_result"
    }
   ],
   "source": [
    "df = pd.read_csv('fashion_New.csv')\n",
    "df"
   ]
  },
  {
   "cell_type": "code",
   "execution_count": 125,
   "id": "ae1e657f-f85a-4bea-9606-297f242f611c",
   "metadata": {},
   "outputs": [
    {
     "data": {
      "text/plain": [
       "array([0, 1])"
      ]
     },
     "execution_count": 125,
     "metadata": {},
     "output_type": "execute_result"
    }
   ],
   "source": [
    "# encoder = OrdinalEncoderEncoder()\n",
    "# df[['Chain','Suburb','State','Manager','Category','Buyer']] = encoder.fit_transform(df[['Chain','Suburb','State','Manager','Category','Buyer']])\n",
    "# encoder.classes_"
   ]
  },
  {
   "cell_type": "code",
   "execution_count": 126,
   "id": "f093387b-c831-4108-88c4-0161041afc71",
   "metadata": {},
   "outputs": [
    {
     "data": {
      "text/plain": [
       "2"
      ]
     },
     "execution_count": 126,
     "metadata": {},
     "output_type": "execute_result"
    }
   ],
   "source": [
    "df['Chain'].nunique()"
   ]
  },
  {
   "cell_type": "code",
   "execution_count": 127,
   "id": "5897c95c-a906-418c-83d1-bbb29e5c8046",
   "metadata": {},
   "outputs": [
    {
     "data": {
      "text/plain": [
       "array([ 0,  1,  2,  3,  4,  5,  6,  7,  8,  9, 10, 11, 12, 13, 14, 15, 16,\n",
       "       17, 18, 19, 20, 21, 22, 23, 24, 25, 26, 27, 28, 29, 30, 31, 32, 33,\n",
       "       34, 35, 36, 37, 38, 39, 40, 41, 42, 43, 44, 45, 46, 47, 48, 49, 50,\n",
       "       51, 52, 53, 54, 55, 56, 57, 58, 59, 60, 61, 62, 63, 64, 65, 66, 67,\n",
       "       68, 69, 70, 71, 72, 73, 74, 75, 76, 77, 78, 79, 80, 81, 82, 83, 84,\n",
       "       85, 86, 87, 88, 89, 90, 91, 92, 93, 94, 95, 96])"
      ]
     },
     "execution_count": 127,
     "metadata": {},
     "output_type": "execute_result"
    }
   ],
   "source": [
    "encoder = LabelEncoder()\n",
    "encoder.fit(df['Suburb'])\n",
    "df['Suburb'] = encoder.transform(df['Suburb'])\n",
    "encoder.classes_"
   ]
  },
  {
   "cell_type": "code",
   "execution_count": 128,
   "id": "67d0a47c-74b8-47fb-a7cb-f6d52d7e9095",
   "metadata": {},
   "outputs": [
    {
     "data": {
      "text/plain": [
       "Index(['Order date', 'Chain', 'Suburb', 'State', 'Postcode', 'Manager',\n",
       "       'Category', 'Buyer', 'Sales', 'inventory'],\n",
       "      dtype='object')"
      ]
     },
     "execution_count": 128,
     "metadata": {},
     "output_type": "execute_result"
    }
   ],
   "source": [
    "df.columns"
   ]
  },
  {
   "cell_type": "code",
   "execution_count": 129,
   "id": "f9a3a40c-620c-4fc2-87bd-ab867b485555",
   "metadata": {},
   "outputs": [
    {
     "data": {
      "text/plain": [
       "array([0, 1, 2, 3, 4, 5, 6, 7])"
      ]
     },
     "execution_count": 129,
     "metadata": {},
     "output_type": "execute_result"
    }
   ],
   "source": [
    "encoder = LabelEncoder()\n",
    "encoder.fit(df['State'])\n",
    "df['State'] = encoder.transform(df['State'])\n",
    "encoder.classes_"
   ]
  },
  {
   "cell_type": "code",
   "execution_count": 130,
   "id": "e04d4556-b119-4fb6-930a-181e97bd4b68",
   "metadata": {},
   "outputs": [
    {
     "data": {
      "text/plain": [
       "array([ 0,  1,  2,  3,  4,  5,  6,  7,  8,  9, 10, 11, 12, 13, 14, 15, 16,\n",
       "       17, 18, 19, 20])"
      ]
     },
     "execution_count": 130,
     "metadata": {},
     "output_type": "execute_result"
    }
   ],
   "source": [
    "encoder = LabelEncoder()\n",
    "encoder.fit(df['Manager'])\n",
    "df['Manager'] = encoder.transform(df['Manager'])\n",
    "encoder.classes_"
   ]
  },
  {
   "cell_type": "code",
   "execution_count": 41,
   "id": "2d821611-f54a-4471-a9a3-868a76d073f1",
   "metadata": {},
   "outputs": [
    {
     "data": {
      "text/plain": [
       "array(['Accessories', 'Groceries', 'Home', 'Hosiery', 'Intimate',\n",
       "       'Juniors', 'Kids', 'Mens', 'Shoes', 'Womens', nan], dtype=object)"
      ]
     },
     "execution_count": 41,
     "metadata": {},
     "output_type": "execute_result"
    }
   ],
   "source": [
    "encoder = LabelEncoder()\n",
    "encoder.fit(df['Category'])\n",
    "df['Category'] = encoder.transform(df['Category'])\n",
    "encoder.classes_"
   ]
  },
  {
   "cell_type": "code",
   "execution_count": 42,
   "id": "badb5799-72ba-4e4f-98ea-d743dcf260fe",
   "metadata": {},
   "outputs": [
    {
     "data": {
      "text/plain": [
       "array(['Amy Buchanan', 'Bruce Curran', 'Chester George', 'Chris Monroe',\n",
       "       'Elizabeth Gentry', 'Ella Hickman', 'Howard Wright',\n",
       "       'Maggie Mayer', 'Richard Carr', 'Sara Ferrell', nan], dtype=object)"
      ]
     },
     "execution_count": 42,
     "metadata": {},
     "output_type": "execute_result"
    }
   ],
   "source": [
    "encoder = LabelEncoder()\n",
    "encoder.fit(df['Buyer'])\n",
    "df['Buyer'] = encoder.transform(df['Buyer'])\n",
    "encoder.classes_"
   ]
  },
  {
   "cell_type": "code",
   "execution_count": 43,
   "id": "2b3b5275-8b34-48cb-98b3-d441db6514ed",
   "metadata": {},
   "outputs": [
    {
     "data": {
      "text/html": [
       "<div>\n",
       "<style scoped>\n",
       "    .dataframe tbody tr th:only-of-type {\n",
       "        vertical-align: middle;\n",
       "    }\n",
       "\n",
       "    .dataframe tbody tr th {\n",
       "        vertical-align: top;\n",
       "    }\n",
       "\n",
       "    .dataframe thead th {\n",
       "        text-align: right;\n",
       "    }\n",
       "</style>\n",
       "<table border=\"1\" class=\"dataframe\">\n",
       "  <thead>\n",
       "    <tr style=\"text-align: right;\">\n",
       "      <th></th>\n",
       "      <th>Production year</th>\n",
       "      <th>Chain</th>\n",
       "      <th>Suburb</th>\n",
       "      <th>State</th>\n",
       "      <th>Postcode</th>\n",
       "      <th>Manager</th>\n",
       "      <th>Category</th>\n",
       "      <th>Buyer</th>\n",
       "      <th>Sales</th>\n",
       "      <th>inventory</th>\n",
       "    </tr>\n",
       "  </thead>\n",
       "  <tbody>\n",
       "    <tr>\n",
       "      <th>0</th>\n",
       "      <td>2021-12-27</td>\n",
       "      <td>0</td>\n",
       "      <td>25</td>\n",
       "      <td>1</td>\n",
       "      <td>2067</td>\n",
       "      <td>6</td>\n",
       "      <td>2</td>\n",
       "      <td>8</td>\n",
       "      <td>479.02</td>\n",
       "      <td>479.02</td>\n",
       "    </tr>\n",
       "    <tr>\n",
       "      <th>1</th>\n",
       "      <td>2021-10-03</td>\n",
       "      <td>0</td>\n",
       "      <td>25</td>\n",
       "      <td>1</td>\n",
       "      <td>2067</td>\n",
       "      <td>6</td>\n",
       "      <td>5</td>\n",
       "      <td>2</td>\n",
       "      <td>149.95</td>\n",
       "      <td>749.75</td>\n",
       "    </tr>\n",
       "    <tr>\n",
       "      <th>2</th>\n",
       "      <td>2022-01-14</td>\n",
       "      <td>0</td>\n",
       "      <td>25</td>\n",
       "      <td>1</td>\n",
       "      <td>2067</td>\n",
       "      <td>6</td>\n",
       "      <td>7</td>\n",
       "      <td>1</td>\n",
       "      <td>14</td>\n",
       "      <td>14</td>\n",
       "    </tr>\n",
       "    <tr>\n",
       "      <th>3</th>\n",
       "      <td>2019-05-15</td>\n",
       "      <td>0</td>\n",
       "      <td>25</td>\n",
       "      <td>1</td>\n",
       "      <td>2067</td>\n",
       "      <td>6</td>\n",
       "      <td>5</td>\n",
       "      <td>2</td>\n",
       "      <td>12</td>\n",
       "      <td>24</td>\n",
       "    </tr>\n",
       "    <tr>\n",
       "      <th>4</th>\n",
       "      <td>2020-10-17</td>\n",
       "      <td>0</td>\n",
       "      <td>25</td>\n",
       "      <td>1</td>\n",
       "      <td>2067</td>\n",
       "      <td>6</td>\n",
       "      <td>9</td>\n",
       "      <td>0</td>\n",
       "      <td>46.94</td>\n",
       "      <td>187.76</td>\n",
       "    </tr>\n",
       "    <tr>\n",
       "      <th>...</th>\n",
       "      <td>...</td>\n",
       "      <td>...</td>\n",
       "      <td>...</td>\n",
       "      <td>...</td>\n",
       "      <td>...</td>\n",
       "      <td>...</td>\n",
       "      <td>...</td>\n",
       "      <td>...</td>\n",
       "      <td>...</td>\n",
       "      <td>...</td>\n",
       "    </tr>\n",
       "    <tr>\n",
       "      <th>72420</th>\n",
       "      <td>2020-01-12</td>\n",
       "      <td>0</td>\n",
       "      <td>10</td>\n",
       "      <td>6</td>\n",
       "      <td>3353</td>\n",
       "      <td>7</td>\n",
       "      <td>6</td>\n",
       "      <td>4</td>\n",
       "      <td>2335.83</td>\n",
       "      <td>2335.83</td>\n",
       "    </tr>\n",
       "    <tr>\n",
       "      <th>72421</th>\n",
       "      <td>2021-12-30</td>\n",
       "      <td>0</td>\n",
       "      <td>10</td>\n",
       "      <td>6</td>\n",
       "      <td>3353</td>\n",
       "      <td>7</td>\n",
       "      <td>6</td>\n",
       "      <td>4</td>\n",
       "      <td>3430.66</td>\n",
       "      <td>17153.3</td>\n",
       "    </tr>\n",
       "    <tr>\n",
       "      <th>72422</th>\n",
       "      <td>2019-04-04</td>\n",
       "      <td>0</td>\n",
       "      <td>10</td>\n",
       "      <td>6</td>\n",
       "      <td>3353</td>\n",
       "      <td>7</td>\n",
       "      <td>2</td>\n",
       "      <td>8</td>\n",
       "      <td>4591.11</td>\n",
       "      <td>13773.33</td>\n",
       "    </tr>\n",
       "    <tr>\n",
       "      <th>72423</th>\n",
       "      <td>2022-06-02</td>\n",
       "      <td>0</td>\n",
       "      <td>10</td>\n",
       "      <td>6</td>\n",
       "      <td>3353</td>\n",
       "      <td>7</td>\n",
       "      <td>2</td>\n",
       "      <td>8</td>\n",
       "      <td>3674.59</td>\n",
       "      <td>11023.77</td>\n",
       "    </tr>\n",
       "    <tr>\n",
       "      <th>72424</th>\n",
       "      <td>2019-10-20</td>\n",
       "      <td>0</td>\n",
       "      <td>10</td>\n",
       "      <td>6</td>\n",
       "      <td>3353</td>\n",
       "      <td>7</td>\n",
       "      <td>5</td>\n",
       "      <td>2</td>\n",
       "      <td>3219.74</td>\n",
       "      <td>9659.22</td>\n",
       "    </tr>\n",
       "  </tbody>\n",
       "</table>\n",
       "<p>72425 rows × 10 columns</p>\n",
       "</div>"
      ],
      "text/plain": [
       "      Production year  Chain  Suburb  State  Postcode  Manager  Category  \\\n",
       "0          2021-12-27      0      25      1      2067        6         2   \n",
       "1          2021-10-03      0      25      1      2067        6         5   \n",
       "2          2022-01-14      0      25      1      2067        6         7   \n",
       "3          2019-05-15      0      25      1      2067        6         5   \n",
       "4          2020-10-17      0      25      1      2067        6         9   \n",
       "...               ...    ...     ...    ...       ...      ...       ...   \n",
       "72420      2020-01-12      0      10      6      3353        7         6   \n",
       "72421      2021-12-30      0      10      6      3353        7         6   \n",
       "72422      2019-04-04      0      10      6      3353        7         2   \n",
       "72423      2022-06-02      0      10      6      3353        7         2   \n",
       "72424      2019-10-20      0      10      6      3353        7         5   \n",
       "\n",
       "       Buyer    Sales inventory  \n",
       "0          8   479.02    479.02  \n",
       "1          2   149.95    749.75  \n",
       "2          1       14        14  \n",
       "3          2       12        24  \n",
       "4          0    46.94    187.76  \n",
       "...      ...      ...       ...  \n",
       "72420      4  2335.83   2335.83  \n",
       "72421      4  3430.66   17153.3  \n",
       "72422      8  4591.11  13773.33  \n",
       "72423      8  3674.59  11023.77  \n",
       "72424      2  3219.74   9659.22  \n",
       "\n",
       "[72425 rows x 10 columns]"
      ]
     },
     "execution_count": 43,
     "metadata": {},
     "output_type": "execute_result"
    }
   ],
   "source": [
    "df"
   ]
  },
  {
   "cell_type": "code",
   "execution_count": 44,
   "id": "202e4cfd-8132-4f73-bd93-a465bf3c1bab",
   "metadata": {},
   "outputs": [],
   "source": [
    "df.rename({'Production year':'Order date'},axis=1,inplace=True)"
   ]
  },
  {
   "cell_type": "code",
   "execution_count": 45,
   "id": "415205be-ed22-4521-83ca-47abe03be428",
   "metadata": {},
   "outputs": [
    {
     "data": {
      "text/plain": [
       "Index(['Order date', 'Chain', 'Suburb', 'State', 'Postcode', 'Manager',\n",
       "       'Category', 'Buyer', 'Sales', 'inventory'],\n",
       "      dtype='object')"
      ]
     },
     "execution_count": 45,
     "metadata": {},
     "output_type": "execute_result"
    }
   ],
   "source": [
    "df.columns"
   ]
  },
  {
   "cell_type": "code",
   "execution_count": 46,
   "id": "a95d8ad0-fced-4ff0-8ed8-a94e61448c11",
   "metadata": {},
   "outputs": [],
   "source": [
    "df['Order date'] = pd.to_datetime(df['Order date'])"
   ]
  },
  {
   "cell_type": "code",
   "execution_count": 47,
   "id": "ac7b7f1f-62cf-4914-afa1-6c429ea6b3fb",
   "metadata": {},
   "outputs": [
    {
     "name": "stdout",
     "output_type": "stream",
     "text": [
      "<class 'pandas.core.frame.DataFrame'>\n",
      "RangeIndex: 72425 entries, 0 to 72424\n",
      "Data columns (total 10 columns):\n",
      " #   Column      Non-Null Count  Dtype         \n",
      "---  ------      --------------  -----         \n",
      " 0   Order date  72425 non-null  datetime64[ns]\n",
      " 1   Chain       72425 non-null  int64         \n",
      " 2   Suburb      72425 non-null  int64         \n",
      " 3   State       72425 non-null  int64         \n",
      " 4   Postcode    72425 non-null  int64         \n",
      " 5   Manager     72425 non-null  int64         \n",
      " 6   Category    72425 non-null  int64         \n",
      " 7   Buyer       72425 non-null  int64         \n",
      " 8   Sales       72244 non-null  object        \n",
      " 9   inventory   72367 non-null  object        \n",
      "dtypes: datetime64[ns](1), int64(7), object(2)\n",
      "memory usage: 5.5+ MB\n"
     ]
    }
   ],
   "source": [
    "df.info()\n"
   ]
  },
  {
   "cell_type": "code",
   "execution_count": 48,
   "id": "f51807fa-0bd5-4419-9cfc-e77bb09fa0ab",
   "metadata": {},
   "outputs": [
    {
     "data": {
      "text/plain": [
       "Order date      0\n",
       "Chain           0\n",
       "Suburb          0\n",
       "State           0\n",
       "Postcode        0\n",
       "Manager         0\n",
       "Category        0\n",
       "Buyer           0\n",
       "Sales         181\n",
       "inventory      58\n",
       "dtype: int64"
      ]
     },
     "execution_count": 48,
     "metadata": {},
     "output_type": "execute_result"
    }
   ],
   "source": [
    "df.isna().sum()"
   ]
  },
  {
   "cell_type": "code",
   "execution_count": 49,
   "id": "3f5ef0c4-4280-45a7-b78e-21d97e350a6e",
   "metadata": {},
   "outputs": [
    {
     "data": {
      "text/plain": [
       "0      479.02\n",
       "1      749.75\n",
       "2          14\n",
       "3          24\n",
       "4      187.76\n",
       "       ...   \n",
       "95    1485.32\n",
       "96     1253.4\n",
       "97    1013.37\n",
       "98      707.6\n",
       "99    4177.23\n",
       "Name: inventory, Length: 100, dtype: object"
      ]
     },
     "execution_count": 49,
     "metadata": {},
     "output_type": "execute_result"
    }
   ],
   "source": [
    "df['inventory'].head(100)"
   ]
  },
  {
   "cell_type": "code",
   "execution_count": 50,
   "id": "f531d6a2-bf43-46e2-b257-3de6e47b5355",
   "metadata": {},
   "outputs": [
    {
     "data": {
      "text/plain": [
       "0          479.02\n",
       "1          749.75\n",
       "2              14\n",
       "3              24\n",
       "4          187.76\n",
       "           ...   \n",
       "72420     2335.83\n",
       "72421     17153.3\n",
       "72422    13773.33\n",
       "72423    11023.77\n",
       "72424     9659.22\n",
       "Name: inventory, Length: 72425, dtype: object"
      ]
     },
     "execution_count": 50,
     "metadata": {},
     "output_type": "execute_result"
    }
   ],
   "source": [
    "df['inventory'].astype(str)"
   ]
  },
  {
   "cell_type": "code",
   "execution_count": 51,
   "id": "a8c896ba-6c1e-4869-96f3-17dc1df1596e",
   "metadata": {},
   "outputs": [
    {
     "data": {
      "text/html": [
       "<div>\n",
       "<style scoped>\n",
       "    .dataframe tbody tr th:only-of-type {\n",
       "        vertical-align: middle;\n",
       "    }\n",
       "\n",
       "    .dataframe tbody tr th {\n",
       "        vertical-align: top;\n",
       "    }\n",
       "\n",
       "    .dataframe thead th {\n",
       "        text-align: right;\n",
       "    }\n",
       "</style>\n",
       "<table border=\"1\" class=\"dataframe\">\n",
       "  <thead>\n",
       "    <tr style=\"text-align: right;\">\n",
       "      <th></th>\n",
       "      <th>Order date</th>\n",
       "      <th>Chain</th>\n",
       "      <th>Suburb</th>\n",
       "      <th>State</th>\n",
       "      <th>Postcode</th>\n",
       "      <th>Manager</th>\n",
       "      <th>Category</th>\n",
       "      <th>Buyer</th>\n",
       "      <th>Sales</th>\n",
       "      <th>inventory</th>\n",
       "    </tr>\n",
       "  </thead>\n",
       "  <tbody>\n",
       "    <tr>\n",
       "      <th>0</th>\n",
       "      <td>2021-12-27</td>\n",
       "      <td>0</td>\n",
       "      <td>25</td>\n",
       "      <td>1</td>\n",
       "      <td>2067</td>\n",
       "      <td>6</td>\n",
       "      <td>2</td>\n",
       "      <td>8</td>\n",
       "      <td>479.02</td>\n",
       "      <td>479.02</td>\n",
       "    </tr>\n",
       "    <tr>\n",
       "      <th>1</th>\n",
       "      <td>2021-10-03</td>\n",
       "      <td>0</td>\n",
       "      <td>25</td>\n",
       "      <td>1</td>\n",
       "      <td>2067</td>\n",
       "      <td>6</td>\n",
       "      <td>5</td>\n",
       "      <td>2</td>\n",
       "      <td>149.95</td>\n",
       "      <td>749.75</td>\n",
       "    </tr>\n",
       "    <tr>\n",
       "      <th>2</th>\n",
       "      <td>2022-01-14</td>\n",
       "      <td>0</td>\n",
       "      <td>25</td>\n",
       "      <td>1</td>\n",
       "      <td>2067</td>\n",
       "      <td>6</td>\n",
       "      <td>7</td>\n",
       "      <td>1</td>\n",
       "      <td>14</td>\n",
       "      <td>14</td>\n",
       "    </tr>\n",
       "    <tr>\n",
       "      <th>3</th>\n",
       "      <td>2019-05-15</td>\n",
       "      <td>0</td>\n",
       "      <td>25</td>\n",
       "      <td>1</td>\n",
       "      <td>2067</td>\n",
       "      <td>6</td>\n",
       "      <td>5</td>\n",
       "      <td>2</td>\n",
       "      <td>12</td>\n",
       "      <td>24</td>\n",
       "    </tr>\n",
       "    <tr>\n",
       "      <th>4</th>\n",
       "      <td>2020-10-17</td>\n",
       "      <td>0</td>\n",
       "      <td>25</td>\n",
       "      <td>1</td>\n",
       "      <td>2067</td>\n",
       "      <td>6</td>\n",
       "      <td>9</td>\n",
       "      <td>0</td>\n",
       "      <td>46.94</td>\n",
       "      <td>187.76</td>\n",
       "    </tr>\n",
       "    <tr>\n",
       "      <th>...</th>\n",
       "      <td>...</td>\n",
       "      <td>...</td>\n",
       "      <td>...</td>\n",
       "      <td>...</td>\n",
       "      <td>...</td>\n",
       "      <td>...</td>\n",
       "      <td>...</td>\n",
       "      <td>...</td>\n",
       "      <td>...</td>\n",
       "      <td>...</td>\n",
       "    </tr>\n",
       "    <tr>\n",
       "      <th>72420</th>\n",
       "      <td>2020-01-12</td>\n",
       "      <td>0</td>\n",
       "      <td>10</td>\n",
       "      <td>6</td>\n",
       "      <td>3353</td>\n",
       "      <td>7</td>\n",
       "      <td>6</td>\n",
       "      <td>4</td>\n",
       "      <td>2335.83</td>\n",
       "      <td>2335.83</td>\n",
       "    </tr>\n",
       "    <tr>\n",
       "      <th>72421</th>\n",
       "      <td>2021-12-30</td>\n",
       "      <td>0</td>\n",
       "      <td>10</td>\n",
       "      <td>6</td>\n",
       "      <td>3353</td>\n",
       "      <td>7</td>\n",
       "      <td>6</td>\n",
       "      <td>4</td>\n",
       "      <td>3430.66</td>\n",
       "      <td>17153.3</td>\n",
       "    </tr>\n",
       "    <tr>\n",
       "      <th>72422</th>\n",
       "      <td>2019-04-04</td>\n",
       "      <td>0</td>\n",
       "      <td>10</td>\n",
       "      <td>6</td>\n",
       "      <td>3353</td>\n",
       "      <td>7</td>\n",
       "      <td>2</td>\n",
       "      <td>8</td>\n",
       "      <td>4591.11</td>\n",
       "      <td>13773.33</td>\n",
       "    </tr>\n",
       "    <tr>\n",
       "      <th>72423</th>\n",
       "      <td>2022-06-02</td>\n",
       "      <td>0</td>\n",
       "      <td>10</td>\n",
       "      <td>6</td>\n",
       "      <td>3353</td>\n",
       "      <td>7</td>\n",
       "      <td>2</td>\n",
       "      <td>8</td>\n",
       "      <td>3674.59</td>\n",
       "      <td>11023.77</td>\n",
       "    </tr>\n",
       "    <tr>\n",
       "      <th>72424</th>\n",
       "      <td>2019-10-20</td>\n",
       "      <td>0</td>\n",
       "      <td>10</td>\n",
       "      <td>6</td>\n",
       "      <td>3353</td>\n",
       "      <td>7</td>\n",
       "      <td>5</td>\n",
       "      <td>2</td>\n",
       "      <td>3219.74</td>\n",
       "      <td>9659.22</td>\n",
       "    </tr>\n",
       "  </tbody>\n",
       "</table>\n",
       "<p>72425 rows × 10 columns</p>\n",
       "</div>"
      ],
      "text/plain": [
       "      Order date  Chain  Suburb  State  Postcode  Manager  Category  Buyer  \\\n",
       "0     2021-12-27      0      25      1      2067        6         2      8   \n",
       "1     2021-10-03      0      25      1      2067        6         5      2   \n",
       "2     2022-01-14      0      25      1      2067        6         7      1   \n",
       "3     2019-05-15      0      25      1      2067        6         5      2   \n",
       "4     2020-10-17      0      25      1      2067        6         9      0   \n",
       "...          ...    ...     ...    ...       ...      ...       ...    ...   \n",
       "72420 2020-01-12      0      10      6      3353        7         6      4   \n",
       "72421 2021-12-30      0      10      6      3353        7         6      4   \n",
       "72422 2019-04-04      0      10      6      3353        7         2      8   \n",
       "72423 2022-06-02      0      10      6      3353        7         2      8   \n",
       "72424 2019-10-20      0      10      6      3353        7         5      2   \n",
       "\n",
       "         Sales inventory  \n",
       "0       479.02    479.02  \n",
       "1       149.95    749.75  \n",
       "2           14        14  \n",
       "3           12        24  \n",
       "4        46.94    187.76  \n",
       "...        ...       ...  \n",
       "72420  2335.83   2335.83  \n",
       "72421  3430.66   17153.3  \n",
       "72422  4591.11  13773.33  \n",
       "72423  3674.59  11023.77  \n",
       "72424  3219.74   9659.22  \n",
       "\n",
       "[72425 rows x 10 columns]"
      ]
     },
     "execution_count": 51,
     "metadata": {},
     "output_type": "execute_result"
    }
   ],
   "source": [
    "df.convert_dtypes()\n"
   ]
  },
  {
   "cell_type": "code",
   "execution_count": 52,
   "id": "6fd11985-3d13-4adf-9228-bb44e05fc949",
   "metadata": {},
   "outputs": [],
   "source": [
    "# df3=df['Sales'"
   ]
  },
  {
   "cell_type": "code",
   "execution_count": 53,
   "id": "6b9b6a36-3b04-465f-9d7a-af0cc5e28615",
   "metadata": {},
   "outputs": [
    {
     "ename": "NameError",
     "evalue": "name 'df3pd' is not defined",
     "output_type": "error",
     "traceback": [
      "\u001b[0;31m---------------------------------------------------------------------------\u001b[0m",
      "\u001b[0;31mNameError\u001b[0m                                 Traceback (most recent call last)",
      "\u001b[0;32m/tmp/ipykernel_19282/2338849633.py\u001b[0m in \u001b[0;36m<module>\u001b[0;34m\u001b[0m\n\u001b[0;32m----> 1\u001b[0;31m \u001b[0mdf3pd\u001b[0m\u001b[0;34m.\u001b[0m\u001b[0mDataFrame\u001b[0m\u001b[0;34m(\u001b[0m\u001b[0mdata\u001b[0m\u001b[0;34m=\u001b[0m\u001b[0mdf\u001b[0m\u001b[0;34m[\u001b[0m\u001b[0;34m'Sales'\u001b[0m\u001b[0;34m]\u001b[0m\u001b[0;34m,\u001b[0m \u001b[0mdtype\u001b[0m\u001b[0;34m=\u001b[0m\u001b[0mnp\u001b[0m\u001b[0;34m.\u001b[0m\u001b[0mstr_\u001b[0m\u001b[0;34m)\u001b[0m\u001b[0;34m\u001b[0m\u001b[0;34m\u001b[0m\u001b[0m\n\u001b[0m",
      "\u001b[0;31mNameError\u001b[0m: name 'df3pd' is not defined"
     ]
    }
   ],
   "source": []
  },
  {
   "cell_type": "code",
   "execution_count": 83,
   "id": "af18363d-27f7-4895-87b0-5669d90e3227",
   "metadata": {},
   "outputs": [],
   "source": [
    "df3=pd.to_numeric(df['Sales'],errors='coerce')"
   ]
  },
  {
   "cell_type": "code",
   "execution_count": 57,
   "id": "626fdb34-9287-41aa-9109-c458be2dbf73",
   "metadata": {},
   "outputs": [
    {
     "name": "stdout",
     "output_type": "stream",
     "text": [
      "<class 'pandas.core.series.Series'>\n",
      "RangeIndex: 72425 entries, 0 to 72424\n",
      "Series name: Sales\n",
      "Non-Null Count  Dtype  \n",
      "--------------  -----  \n",
      "72243 non-null  float64\n",
      "dtypes: float64(1)\n",
      "memory usage: 565.9 KB\n"
     ]
    }
   ],
   "source": [
    "df3.info()"
   ]
  },
  {
   "cell_type": "code",
   "execution_count": 91,
   "id": "0c284dab-bba9-40d6-b816-81e7901f2a5b",
   "metadata": {},
   "outputs": [
    {
     "data": {
      "text/plain": [
       "0          479.02\n",
       "1          749.75\n",
       "2           14.00\n",
       "3           24.00\n",
       "4          187.76\n",
       "           ...   \n",
       "72420     2335.83\n",
       "72421    17153.30\n",
       "72422    13773.33\n",
       "72423    11023.77\n",
       "72424     9659.22\n",
       "Name: inventory, Length: 72425, dtype: float64"
      ]
     },
     "execution_count": 91,
     "metadata": {},
     "output_type": "execute_result"
    }
   ],
   "source": [
    "# df4=pd.to_numeric(df['inventory'],errors='coerce')\n",
    "# df4"
   ]
  },
  {
   "cell_type": "code",
   "execution_count": 84,
   "id": "ee1bf3e7-b7a1-4fe8-a01f-3bf0d8426257",
   "metadata": {},
   "outputs": [],
   "source": [
    "frames = [df,df3]  "
   ]
  },
  {
   "cell_type": "code",
   "execution_count": 96,
   "id": "35c04458-4948-4c5b-97b7-daf687a4dd2a",
   "metadata": {},
   "outputs": [],
   "source": [
    "result_data =pd.concat(frames, axis=1,names=['sales'])  "
   ]
  },
  {
   "cell_type": "code",
   "execution_count": 97,
   "id": "5cc41b0a-6976-48e1-80e7-7daa183f613c",
   "metadata": {},
   "outputs": [
    {
     "name": "stdout",
     "output_type": "stream",
     "text": [
      "<class 'pandas.core.frame.DataFrame'>\n",
      "RangeIndex: 72425 entries, 0 to 72424\n",
      "Data columns (total 11 columns):\n",
      " #   Column      Non-Null Count  Dtype         \n",
      "---  ------      --------------  -----         \n",
      " 0   Order date  72425 non-null  datetime64[ns]\n",
      " 1   Chain       72425 non-null  int64         \n",
      " 2   Suburb      72425 non-null  int64         \n",
      " 3   State       72425 non-null  int64         \n",
      " 4   Postcode    72425 non-null  int64         \n",
      " 5   Manager     72425 non-null  int64         \n",
      " 6   Category    72425 non-null  int64         \n",
      " 7   Buyer       72425 non-null  int64         \n",
      " 8   Sales       72244 non-null  object        \n",
      " 9   inventory   72367 non-null  object        \n",
      " 10  Sales       72243 non-null  float64       \n",
      "dtypes: datetime64[ns](1), float64(1), int64(7), object(2)\n",
      "memory usage: 6.1+ MB\n"
     ]
    },
    {
     "data": {
      "text/html": [
       "<div>\n",
       "<style scoped>\n",
       "    .dataframe tbody tr th:only-of-type {\n",
       "        vertical-align: middle;\n",
       "    }\n",
       "\n",
       "    .dataframe tbody tr th {\n",
       "        vertical-align: top;\n",
       "    }\n",
       "\n",
       "    .dataframe thead th {\n",
       "        text-align: right;\n",
       "    }\n",
       "</style>\n",
       "<table border=\"1\" class=\"dataframe\">\n",
       "  <thead>\n",
       "    <tr style=\"text-align: right;\">\n",
       "      <th></th>\n",
       "      <th>Order date</th>\n",
       "      <th>Chain</th>\n",
       "      <th>Suburb</th>\n",
       "      <th>State</th>\n",
       "      <th>Postcode</th>\n",
       "      <th>Manager</th>\n",
       "      <th>Category</th>\n",
       "      <th>Buyer</th>\n",
       "      <th>Sales</th>\n",
       "      <th>inventory</th>\n",
       "      <th>Sales</th>\n",
       "    </tr>\n",
       "  </thead>\n",
       "  <tbody>\n",
       "    <tr>\n",
       "      <th>0</th>\n",
       "      <td>2021-12-27</td>\n",
       "      <td>0</td>\n",
       "      <td>25</td>\n",
       "      <td>1</td>\n",
       "      <td>2067</td>\n",
       "      <td>6</td>\n",
       "      <td>2</td>\n",
       "      <td>8</td>\n",
       "      <td>479.02</td>\n",
       "      <td>479.02</td>\n",
       "      <td>479.02</td>\n",
       "    </tr>\n",
       "    <tr>\n",
       "      <th>1</th>\n",
       "      <td>2021-10-03</td>\n",
       "      <td>0</td>\n",
       "      <td>25</td>\n",
       "      <td>1</td>\n",
       "      <td>2067</td>\n",
       "      <td>6</td>\n",
       "      <td>5</td>\n",
       "      <td>2</td>\n",
       "      <td>149.95</td>\n",
       "      <td>749.75</td>\n",
       "      <td>149.95</td>\n",
       "    </tr>\n",
       "    <tr>\n",
       "      <th>2</th>\n",
       "      <td>2022-01-14</td>\n",
       "      <td>0</td>\n",
       "      <td>25</td>\n",
       "      <td>1</td>\n",
       "      <td>2067</td>\n",
       "      <td>6</td>\n",
       "      <td>7</td>\n",
       "      <td>1</td>\n",
       "      <td>14</td>\n",
       "      <td>14</td>\n",
       "      <td>14.00</td>\n",
       "    </tr>\n",
       "    <tr>\n",
       "      <th>3</th>\n",
       "      <td>2019-05-15</td>\n",
       "      <td>0</td>\n",
       "      <td>25</td>\n",
       "      <td>1</td>\n",
       "      <td>2067</td>\n",
       "      <td>6</td>\n",
       "      <td>5</td>\n",
       "      <td>2</td>\n",
       "      <td>12</td>\n",
       "      <td>24</td>\n",
       "      <td>12.00</td>\n",
       "    </tr>\n",
       "    <tr>\n",
       "      <th>4</th>\n",
       "      <td>2020-10-17</td>\n",
       "      <td>0</td>\n",
       "      <td>25</td>\n",
       "      <td>1</td>\n",
       "      <td>2067</td>\n",
       "      <td>6</td>\n",
       "      <td>9</td>\n",
       "      <td>0</td>\n",
       "      <td>46.94</td>\n",
       "      <td>187.76</td>\n",
       "      <td>46.94</td>\n",
       "    </tr>\n",
       "    <tr>\n",
       "      <th>...</th>\n",
       "      <td>...</td>\n",
       "      <td>...</td>\n",
       "      <td>...</td>\n",
       "      <td>...</td>\n",
       "      <td>...</td>\n",
       "      <td>...</td>\n",
       "      <td>...</td>\n",
       "      <td>...</td>\n",
       "      <td>...</td>\n",
       "      <td>...</td>\n",
       "      <td>...</td>\n",
       "    </tr>\n",
       "    <tr>\n",
       "      <th>72420</th>\n",
       "      <td>2020-01-12</td>\n",
       "      <td>0</td>\n",
       "      <td>10</td>\n",
       "      <td>6</td>\n",
       "      <td>3353</td>\n",
       "      <td>7</td>\n",
       "      <td>6</td>\n",
       "      <td>4</td>\n",
       "      <td>2335.83</td>\n",
       "      <td>2335.83</td>\n",
       "      <td>2335.83</td>\n",
       "    </tr>\n",
       "    <tr>\n",
       "      <th>72421</th>\n",
       "      <td>2021-12-30</td>\n",
       "      <td>0</td>\n",
       "      <td>10</td>\n",
       "      <td>6</td>\n",
       "      <td>3353</td>\n",
       "      <td>7</td>\n",
       "      <td>6</td>\n",
       "      <td>4</td>\n",
       "      <td>3430.66</td>\n",
       "      <td>17153.3</td>\n",
       "      <td>3430.66</td>\n",
       "    </tr>\n",
       "    <tr>\n",
       "      <th>72422</th>\n",
       "      <td>2019-04-04</td>\n",
       "      <td>0</td>\n",
       "      <td>10</td>\n",
       "      <td>6</td>\n",
       "      <td>3353</td>\n",
       "      <td>7</td>\n",
       "      <td>2</td>\n",
       "      <td>8</td>\n",
       "      <td>4591.11</td>\n",
       "      <td>13773.33</td>\n",
       "      <td>4591.11</td>\n",
       "    </tr>\n",
       "    <tr>\n",
       "      <th>72423</th>\n",
       "      <td>2022-06-02</td>\n",
       "      <td>0</td>\n",
       "      <td>10</td>\n",
       "      <td>6</td>\n",
       "      <td>3353</td>\n",
       "      <td>7</td>\n",
       "      <td>2</td>\n",
       "      <td>8</td>\n",
       "      <td>3674.59</td>\n",
       "      <td>11023.77</td>\n",
       "      <td>3674.59</td>\n",
       "    </tr>\n",
       "    <tr>\n",
       "      <th>72424</th>\n",
       "      <td>2019-10-20</td>\n",
       "      <td>0</td>\n",
       "      <td>10</td>\n",
       "      <td>6</td>\n",
       "      <td>3353</td>\n",
       "      <td>7</td>\n",
       "      <td>5</td>\n",
       "      <td>2</td>\n",
       "      <td>3219.74</td>\n",
       "      <td>9659.22</td>\n",
       "      <td>3219.74</td>\n",
       "    </tr>\n",
       "  </tbody>\n",
       "</table>\n",
       "<p>72425 rows × 11 columns</p>\n",
       "</div>"
      ],
      "text/plain": [
       "      Order date  Chain  Suburb  State  Postcode  Manager  Category  Buyer  \\\n",
       "0     2021-12-27      0      25      1      2067        6         2      8   \n",
       "1     2021-10-03      0      25      1      2067        6         5      2   \n",
       "2     2022-01-14      0      25      1      2067        6         7      1   \n",
       "3     2019-05-15      0      25      1      2067        6         5      2   \n",
       "4     2020-10-17      0      25      1      2067        6         9      0   \n",
       "...          ...    ...     ...    ...       ...      ...       ...    ...   \n",
       "72420 2020-01-12      0      10      6      3353        7         6      4   \n",
       "72421 2021-12-30      0      10      6      3353        7         6      4   \n",
       "72422 2019-04-04      0      10      6      3353        7         2      8   \n",
       "72423 2022-06-02      0      10      6      3353        7         2      8   \n",
       "72424 2019-10-20      0      10      6      3353        7         5      2   \n",
       "\n",
       "         Sales inventory    Sales  \n",
       "0       479.02    479.02   479.02  \n",
       "1       149.95    749.75   149.95  \n",
       "2           14        14    14.00  \n",
       "3           12        24    12.00  \n",
       "4        46.94    187.76    46.94  \n",
       "...        ...       ...      ...  \n",
       "72420  2335.83   2335.83  2335.83  \n",
       "72421  3430.66   17153.3  3430.66  \n",
       "72422  4591.11  13773.33  4591.11  \n",
       "72423  3674.59  11023.77  3674.59  \n",
       "72424  3219.74   9659.22  3219.74  \n",
       "\n",
       "[72425 rows x 11 columns]"
      ]
     },
     "execution_count": 97,
     "metadata": {},
     "output_type": "execute_result"
    }
   ],
   "source": [
    "result_data.info()\n",
    "result_data"
   ]
  },
  {
   "cell_type": "code",
   "execution_count": 104,
   "id": "f672c82d-987d-45c1-91dd-ab3d6325def0",
   "metadata": {},
   "outputs": [
    {
     "name": "stdout",
     "output_type": "stream",
     "text": [
      "<class 'pandas.core.frame.DataFrame'>\n",
      "RangeIndex: 72425 entries, 0 to 72424\n",
      "Data columns (total 11 columns):\n",
      " #   Column      Non-Null Count  Dtype  \n",
      "---  ------      --------------  -----  \n",
      " 0   Unnamed: 0  72425 non-null  int64  \n",
      " 1   Order date  72425 non-null  object \n",
      " 2   Chain       72425 non-null  int64  \n",
      " 3   Suburb      72425 non-null  int64  \n",
      " 4   State       72425 non-null  int64  \n",
      " 5   Postcode    72425 non-null  int64  \n",
      " 6   Manager     72425 non-null  int64  \n",
      " 7   Category    72425 non-null  int64  \n",
      " 8   Buyer       72425 non-null  int64  \n",
      " 9   inventory   72367 non-null  object \n",
      " 10  Sales       72243 non-null  float64\n",
      "dtypes: float64(1), int64(8), object(2)\n",
      "memory usage: 6.1+ MB\n"
     ]
    },
    {
     "name": "stderr",
     "output_type": "stream",
     "text": [
      "/tmp/ipykernel_19282/3091288676.py:3: DtypeWarning: Columns (9) have mixed types. Specify dtype option on import or set low_memory=False.\n",
      "  df = pd.read_csv('final.csv')\n"
     ]
    }
   ],
   "source": [
    "# result_data.to_csv(\"final.csv\")\n",
    "# result_data\n",
    "df = pd.read_csv('final.csv')\n",
    "df.info()"
   ]
  },
  {
   "cell_type": "code",
   "execution_count": 105,
   "id": "91a1428e-375d-4373-aa0d-0a8bba57dc85",
   "metadata": {},
   "outputs": [],
   "source": [
    "df4=pd.to_numeric(df['inventory'],errors='coerce')"
   ]
  },
  {
   "cell_type": "code",
   "execution_count": 106,
   "id": "4881827d-5fed-4f61-b27d-40dfc7499293",
   "metadata": {},
   "outputs": [
    {
     "data": {
      "text/plain": [
       "0          479.02\n",
       "1          749.75\n",
       "2           14.00\n",
       "3           24.00\n",
       "4          187.76\n",
       "           ...   \n",
       "72420     2335.83\n",
       "72421    17153.30\n",
       "72422    13773.33\n",
       "72423    11023.77\n",
       "72424     9659.22\n",
       "Name: inventory, Length: 72425, dtype: float64"
      ]
     },
     "execution_count": 106,
     "metadata": {},
     "output_type": "execute_result"
    }
   ],
   "source": [
    "df4"
   ]
  },
  {
   "cell_type": "code",
   "execution_count": 107,
   "id": "b073ba45-a04b-4e18-b109-97590b3b4444",
   "metadata": {},
   "outputs": [],
   "source": [
    "frames2 = [df,df4]  "
   ]
  },
  {
   "cell_type": "code",
   "execution_count": 108,
   "id": "69ebee55-ae5e-4e66-af61-461a77d7460e",
   "metadata": {},
   "outputs": [],
   "source": [
    "Final_data=pd.concat(frames2, axis=1,names=['Inventry'])"
   ]
  },
  {
   "cell_type": "code",
   "execution_count": 109,
   "id": "780eda11-69af-4965-bcdd-c0d8fb96245e",
   "metadata": {},
   "outputs": [
    {
     "name": "stdout",
     "output_type": "stream",
     "text": [
      "<class 'pandas.core.frame.DataFrame'>\n",
      "RangeIndex: 72425 entries, 0 to 72424\n",
      "Data columns (total 12 columns):\n",
      " #   Column      Non-Null Count  Dtype  \n",
      "---  ------      --------------  -----  \n",
      " 0   Unnamed: 0  72425 non-null  int64  \n",
      " 1   Order date  72425 non-null  object \n",
      " 2   Chain       72425 non-null  int64  \n",
      " 3   Suburb      72425 non-null  int64  \n",
      " 4   State       72425 non-null  int64  \n",
      " 5   Postcode    72425 non-null  int64  \n",
      " 6   Manager     72425 non-null  int64  \n",
      " 7   Category    72425 non-null  int64  \n",
      " 8   Buyer       72425 non-null  int64  \n",
      " 9   inventory   72367 non-null  object \n",
      " 10  Sales       72243 non-null  float64\n",
      " 11  inventory   72366 non-null  float64\n",
      "dtypes: float64(2), int64(8), object(2)\n",
      "memory usage: 6.6+ MB\n"
     ]
    }
   ],
   "source": [
    "Final_data.info()"
   ]
  },
  {
   "cell_type": "code",
   "execution_count": 118,
   "id": "5ac65a93-6798-46a7-a5c0-475c988f35d1",
   "metadata": {},
   "outputs": [
    {
     "name": "stdout",
     "output_type": "stream",
     "text": [
      "<class 'pandas.core.frame.DataFrame'>\n",
      "RangeIndex: 72425 entries, 0 to 72424\n",
      "Data columns (total 12 columns):\n",
      " #   Column        Non-Null Count  Dtype  \n",
      "---  ------        --------------  -----  \n",
      " 0   Unnamed: 0.1  72425 non-null  int64  \n",
      " 1   Unnamed: 0    72425 non-null  int64  \n",
      " 2   Order date    72425 non-null  object \n",
      " 3   Chain         72425 non-null  int64  \n",
      " 4   Suburb        72425 non-null  int64  \n",
      " 5   State         72425 non-null  int64  \n",
      " 6   Postcode      72425 non-null  int64  \n",
      " 7   Manager       72425 non-null  int64  \n",
      " 8   Category      72425 non-null  int64  \n",
      " 9   Buyer         72425 non-null  int64  \n",
      " 10  Sales         72243 non-null  float64\n",
      " 11  inventory     72366 non-null  float64\n",
      "dtypes: float64(2), int64(9), object(1)\n",
      "memory usage: 6.6+ MB\n"
     ]
    }
   ],
   "source": [
    "# Final_data.to_csv(\"final_New.csv\")\n",
    "# Final_data\n",
    "df = pd.read_csv('fashion_New.csv')\n",
    "df.info()"
   ]
  },
  {
   "cell_type": "code",
   "execution_count": 120,
   "id": "16d4adb4-266b-4116-817e-7a7554007b2b",
   "metadata": {},
   "outputs": [],
   "source": [
    "from miceforest import ImputationKernel\n",
    "mice_obj = ImputationKernel(\n",
    "    data=df.drop(['Order date','Unnamed: 0.1','Unnamed: 0'],axis=1),\n",
    "    random_state=12345\n",
    ")\n",
    "mice_obj.mice(5)\n",
    "df=mice_obj.complete_data()"
   ]
  },
  {
   "cell_type": "code",
   "execution_count": null,
   "id": "133f6e91-ef75-492f-b9b7-dfd57abfa9c5",
   "metadata": {},
   "outputs": [],
   "source": [
    "df.info()"
   ]
  },
  {
   "cell_type": "code",
   "execution_count": null,
   "id": "f6e07c5d-519c-4b54-9ce1-4269605005b4",
   "metadata": {},
   "outputs": [],
   "source": []
  }
 ],
 "metadata": {
  "kernelspec": {
   "display_name": "Python 3 (ipykernel)",
   "language": "python",
   "name": "python3"
  },
  "language_info": {
   "codemirror_mode": {
    "name": "ipython",
    "version": 3
   },
   "file_extension": ".py",
   "mimetype": "text/x-python",
   "name": "python",
   "nbconvert_exporter": "python",
   "pygments_lexer": "ipython3",
   "version": "3.10.12"
  }
 },
 "nbformat": 4,
 "nbformat_minor": 5
}
